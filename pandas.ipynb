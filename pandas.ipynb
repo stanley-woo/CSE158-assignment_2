{
 "cells": [
  {
   "cell_type": "code",
   "execution_count": 1,
   "id": "fb5e11e8",
   "metadata": {},
   "outputs": [],
   "source": [
    "import gzip\n",
    "from collections import defaultdict\n",
    "import math\n",
    "import scipy.optimize\n",
    "from sklearn import svm\n",
    "import numpy as np\n",
    "import string\n",
    "import random\n",
    "import string\n",
    "import pandas as pd\n",
    "from sklearn import linear_model\n",
    "import csv\n",
    "import ast\n",
    "import seaborn as sns\n",
    "from sklearn.model_selection import train_test_split"
   ]
  },
  {
   "cell_type": "code",
   "execution_count": 2,
   "id": "6190012d",
   "metadata": {},
   "outputs": [],
   "source": [
    "import warnings\n",
    "warnings.filterwarnings(\"ignore\")"
   ]
  },
  {
   "cell_type": "code",
   "execution_count": 3,
   "id": "a4137145",
   "metadata": {},
   "outputs": [],
   "source": [
    "allRecipes = pd.read_csv('CSE158-assignment_2/RAW_recipes.csv')  "
   ]
  },
  {
   "cell_type": "code",
   "execution_count": 4,
   "id": "7bcaf894",
   "metadata": {},
   "outputs": [],
   "source": [
    "interactions = pd.read_csv('CSE158-assignment_2/RAW_interactions.csv')"
   ]
  },
  {
   "cell_type": "code",
   "execution_count": 5,
   "id": "548ce8b7",
   "metadata": {},
   "outputs": [],
   "source": [
    "dataset = pd.merge(allRecipes, interactions, how='outer', left_on='id', right_on='recipe_id')"
   ]
  },
  {
   "cell_type": "code",
   "execution_count": 6,
   "id": "4214e3f8",
   "metadata": {},
   "outputs": [],
   "source": [
    "dataset['user_recipe_pair'] = dataset['user_id'].astype(str) + ',' + dataset['recipe_id'].astype(str)\n",
    "dataset['rating_review'] = dataset['rating'].astype(str) + dataset['review']"
   ]
  },
  {
   "cell_type": "code",
   "execution_count": 7,
   "id": "ba020628",
   "metadata": {},
   "outputs": [],
   "source": [
    "train, test = train_test_split(dataset, test_size=0.3, shuffle=True)\n",
    "train, valid = train_test_split(train, test_size=0.2)"
   ]
  },
  {
   "cell_type": "code",
   "execution_count": 8,
   "id": "0bf7da97",
   "metadata": {},
   "outputs": [],
   "source": [
    "usersPerItem = defaultdict(set)\n",
    "itemsPerUser = defaultdict(set)\n",
    "reviewsPerUser = defaultdict(list)\n",
    "reviewsPerItem = defaultdict(list)\n",
    "itemNames = {}\n",
    "ratingDict = {}\n",
    "\n",
    "[usersPerItem[item].add(user) for user, item in zip(train['user_id'], train['recipe_id'])]\n",
    "[itemsPerUser[user].add(item) for user, item in zip(train['user_id'], train['recipe_id'])]\n",
    "[reviewsPerUser[int(user_item.split(',')[0])].append((rating, int(user_item.split(',')[1]))) for user_item, rating in zip(train['user_recipe_pair'], train['rating'])]\n",
    "#[reviewsPerUser[dataset.iloc[i]['user_id']].append(dataset.iloc[i]) for i in range(dataset.shape[0])]#user, rating in zip(dataset['user_id'], dataset['rating'])]\n",
    "[reviewsPerItem[int(user_item.split(',')[1])].append((rating, int(user_item.split(',')[0]))) for user_item, rating in zip(train['user_recipe_pair'], train['rating'])]\n",
    "#[reviewsPerItem[item].append(rating) for item, rating in zip(dataset['recipe_id'], dataset['rating'])]\n",
    "ratingDict = {(int(user_item.split(',')[0]), int(user_item.split(',')[1])): rating for user_item, rating in zip(train['user_recipe_pair'], train['rating'])}\n",
    "None"
   ]
  },
  {
   "cell_type": "code",
   "execution_count": 9,
   "id": "593e7627",
   "metadata": {},
   "outputs": [],
   "source": [
    "userAverages = {}\n",
    "itemAverages = {}\n",
    "ratingMean = []\n",
    "\n",
    "for u in itemsPerUser:\n",
    "    rs = [ratingDict[(u,i)] for i in itemsPerUser[u]]\n",
    "    userAverages[u] = sum(rs) / len(rs)\n",
    "    \n",
    "for i in usersPerItem:\n",
    "    rs = [ratingDict[(u,i)] for u in usersPerItem[i]]\n",
    "    itemAverages[i] = sum(rs) / len(rs)\n",
    "    \n",
    "ratingMean = list(train['rating'])\n",
    "    \n",
    "ratingMean = sum(ratingMean) / len(ratingMean)"
   ]
  },
  {
   "cell_type": "code",
   "execution_count": 10,
   "id": "5c743f8e",
   "metadata": {},
   "outputs": [],
   "source": [
    "alwaysPredictMean_valid = [ratingMean] * valid.shape[0]\n",
    "alwaysPredictFive_valid = [5] * valid.shape[0]\n",
    "\n",
    "alwaysPredictMean_test = [ratingMean] * test.shape[0]\n",
    "alwaysPredictFive_test = [5] * test.shape[0]"
   ]
  },
  {
   "cell_type": "code",
   "execution_count": 11,
   "id": "5a6881d1",
   "metadata": {},
   "outputs": [],
   "source": [
    "def Jaccard(s1, s2):\n",
    "    numer = len(s1.intersection(s2))\n",
    "    denom = len(s1.union(s2))\n",
    "    if denom == 0:\n",
    "        return 0\n",
    "    return numer / denom"
   ]
  },
  {
   "cell_type": "code",
   "execution_count": 12,
   "id": "6bc20ab2",
   "metadata": {},
   "outputs": [],
   "source": [
    "def predictRating(user, item):\n",
    "    ratings = []\n",
    "    similarities = []\n",
    "    for d in reviewsPerUser[user]:\n",
    "        i2 = d[1]\n",
    "        if i2 == item: continue\n",
    "        ratings.append(d[0] - itemAverages[i2])\n",
    "        similarities.append(Jaccard(usersPerItem[item],usersPerItem[i2]))\n",
    "    if (sum(similarities) > 0):\n",
    "        weightedRatings = [(x*y) for x,y in zip(ratings,similarities)]\n",
    "        return itemAverages[item] + sum(weightedRatings) / sum(similarities)\n",
    "    else:\n",
    "        return ratingMean"
   ]
  },
  {
   "cell_type": "code",
   "execution_count": 23,
   "id": "1b83278d",
   "metadata": {},
   "outputs": [],
   "source": [
    "valid_preds = [predictRating(user, recipe) for user, recipe in zip(valid['user_id'], valid['recipe_id'])]\n",
    "test_preds = [predictRating(user, recipe) for user, recipe in zip(test['user_id'], test['recipe_id'])]"
   ]
  },
  {
   "cell_type": "code",
   "execution_count": 24,
   "id": "46a97fb0",
   "metadata": {},
   "outputs": [],
   "source": [
    "def MSE(y, ypred):\n",
    "    diffs = [(a-b)**2 for (a,b) in zip(y,ypred)]\n",
    "    return sum(diffs) / len(diffs)"
   ]
  },
  {
   "cell_type": "code",
   "execution_count": 25,
   "id": "8d7bc81a",
   "metadata": {},
   "outputs": [],
   "source": [
    "valid_labels = list(valid['rating'])\n",
    "test_labels = list(test['rating'])"
   ]
  },
  {
   "cell_type": "code",
   "execution_count": 26,
   "id": "79dcebef",
   "metadata": {},
   "outputs": [],
   "source": [
    "mse_mean_valid = MSE(alwaysPredictMean_valid, valid_labels)\n",
    "mse_five_valid = MSE(alwaysPredictFive_valid, valid_labels)\n",
    "mse_valid = MSE(valid_preds, valid_labels)\n",
    "\n",
    "mse_mean_test = MSE(alwaysPredictMean_test, test_labels)\n",
    "mse_five_test = MSE(alwaysPredictFive_test, test_labels)\n",
    "mse_test = MSE(test_preds, test_labels)"
   ]
  },
  {
   "cell_type": "code",
   "execution_count": 27,
   "id": "45c21aca",
   "metadata": {},
   "outputs": [
    {
     "data": {
      "text/plain": [
       "(1.6014862900359228, 1.946338909494613, 1.73969657501988)"
      ]
     },
     "execution_count": 27,
     "metadata": {},
     "output_type": "execute_result"
    }
   ],
   "source": [
    "mse_mean_valid, mse_five_valid, mse_valid"
   ]
  },
  {
   "cell_type": "code",
   "execution_count": 28,
   "id": "0e21f172",
   "metadata": {},
   "outputs": [
    {
     "data": {
      "text/plain": [
       "(1.6012984760164963, 1.9490802476222435, 1.7451196987108)"
      ]
     },
     "execution_count": 28,
     "metadata": {},
     "output_type": "execute_result"
    }
   ],
   "source": [
    "mse_mean_test, mse_five_test, mse_test"
   ]
  },
  {
   "cell_type": "code",
   "execution_count": 29,
   "id": "d0531eda",
   "metadata": {},
   "outputs": [],
   "source": [
    "round_valid = [round(i) for i in valid_preds]\n",
    "round_test = [round(i) for i in test_preds]"
   ]
  },
  {
   "cell_type": "code",
   "execution_count": 30,
   "id": "0affdc55",
   "metadata": {},
   "outputs": [],
   "source": [
    "mse_round_valid = MSE(round_valid, valid_labels)\n",
    "mse_round_test = MSE(round_test, test_labels)"
   ]
  },
  {
   "cell_type": "code",
   "execution_count": 31,
   "id": "8ad5264d",
   "metadata": {},
   "outputs": [
    {
     "data": {
      "text/plain": [
       "(1.7702293543259404, 1.7720621351678338)"
      ]
     },
     "execution_count": 31,
     "metadata": {},
     "output_type": "execute_result"
    }
   ],
   "source": [
    "mse_round_valid, mse_round_test"
   ]
  },
  {
   "cell_type": "code",
   "execution_count": null,
   "id": "4e89b31d",
   "metadata": {},
   "outputs": [],
   "source": []
  }
 ],
 "metadata": {
  "kernelspec": {
   "display_name": "Python 3 (ipykernel)",
   "language": "python",
   "name": "python3"
  },
  "language_info": {
   "codemirror_mode": {
    "name": "ipython",
    "version": 3
   },
   "file_extension": ".py",
   "mimetype": "text/x-python",
   "name": "python",
   "nbconvert_exporter": "python",
   "pygments_lexer": "ipython3",
   "version": "3.8.5"
  }
 },
 "nbformat": 4,
 "nbformat_minor": 5
}
